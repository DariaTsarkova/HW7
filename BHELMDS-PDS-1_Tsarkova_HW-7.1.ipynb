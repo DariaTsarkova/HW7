{
 "cells": [
  {
   "cell_type": "code",
   "execution_count": 3,
   "id": "0fe75624-f352-4528-84c6-d8b9f6e1f44a",
   "metadata": {},
   "outputs": [],
   "source": [
    "from datetime import datetime"
   ]
  },
  {
   "cell_type": "code",
   "execution_count": 5,
   "id": "ad43ea1a-a4d7-48c3-b7c4-b59d1045052a",
   "metadata": {},
   "outputs": [],
   "source": [
    "#The Moscow Times — Wednesday, October 2, 2002\n",
    "#The Guardian — Friday, 11.10.13\n",
    "#Daily News — Thursday, 18 August 1977"
   ]
  },
  {
   "cell_type": "code",
   "execution_count": 31,
   "id": "76a4a8c9-5b99-4cdf-bcc1-d391fae6c241",
   "metadata": {},
   "outputs": [
    {
     "data": {
      "text/plain": [
       "datetime.datetime(2002, 10, 2, 0, 0)"
      ]
     },
     "execution_count": 31,
     "metadata": {},
     "output_type": "execute_result"
    }
   ],
   "source": [
    "The_Moscow_Times = datetime.strptime ('Wednesday, October 2, 2002', '%A, %B %d, %Y')\n",
    "The_Moscow_Times"
   ]
  },
  {
   "cell_type": "code",
   "execution_count": 33,
   "id": "6599a11b-f8bc-446f-8be9-6a9440d76b06",
   "metadata": {},
   "outputs": [
    {
     "data": {
      "text/plain": [
       "datetime.datetime(2013, 10, 11, 0, 0)"
      ]
     },
     "execution_count": 33,
     "metadata": {},
     "output_type": "execute_result"
    }
   ],
   "source": [
    "The_Guardian = datetime.strptime ('Friday, 11.10.13', '%A, %d.%m.%y')\n",
    "The_Guardian"
   ]
  },
  {
   "cell_type": "code",
   "execution_count": 35,
   "id": "247c2417-f753-4c07-94de-34024e7657d0",
   "metadata": {},
   "outputs": [
    {
     "data": {
      "text/plain": [
       "datetime.datetime(1977, 8, 18, 0, 0)"
      ]
     },
     "execution_count": 35,
     "metadata": {},
     "output_type": "execute_result"
    }
   ],
   "source": [
    "Daily_News = datetime.strptime ('Thursday, 18 August 1977', '%A, %d %B %Y')\n",
    "Daily_News"
   ]
  }
 ],
 "metadata": {
  "kernelspec": {
   "display_name": "Python 3 (ipykernel)",
   "language": "python",
   "name": "python3"
  },
  "language_info": {
   "codemirror_mode": {
    "name": "ipython",
    "version": 3
   },
   "file_extension": ".py",
   "mimetype": "text/x-python",
   "name": "python",
   "nbconvert_exporter": "python",
   "pygments_lexer": "ipython3",
   "version": "3.12.7"
  }
 },
 "nbformat": 4,
 "nbformat_minor": 5
}
